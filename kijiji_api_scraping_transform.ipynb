{
 "cells": [
  {
   "cell_type": "code",
   "execution_count": 2,
   "metadata": {},
   "outputs": [],
   "source": [
    "#Dependencies\n",
    "import timeit\n",
    "from tqdm import tqdm\n",
    "import pickle\n",
    "import requests\n",
    "from bs4 import BeautifulSoup as bs\n",
    "from selenium import webdriver\n",
    "import time\n",
    "import pandas as pd\n",
    "import missingno\n",
    "import re"
   ]
  },
  {
   "cell_type": "code",
   "execution_count": 9,
   "metadata": {},
   "outputs": [],
   "source": [
    "def instatiate_driver():\n",
    "    #########################################################################################\n",
    "    #Instatiate Selenium driver\n",
    "    #Returns the handle object\n",
    "    #########################################################################################\n",
    "    chrome_options = webdriver.ChromeOptions()\n",
    "    CHROMEDRIVER_PATH = executable_path\n",
    "    chrome_options.add_argument('--disable-gpu')\n",
    "    chrome_options.add_argument('--no-sandbox')\n",
    "    chrome_options.add_argument('--headless')\n",
    "    driver = webdriver.Chrome(executable_path=CHROMEDRIVER_PATH, options=chrome_options)\n",
    "    return driver"
   ]
  },
  {
   "cell_type": "code",
   "execution_count": 216,
   "metadata": {},
   "outputs": [],
   "source": [
    "url_longTerm_rental=\"https://www.kijiji.ca/b-apartments-condos/city-of-toronto\"\n",
    "url_longTerm_base=\"/c37l1700273\"\n",
    "pageNos = '/page-'\n",
    "url_shortTerm_rental=\"https://www.kijiji.ca/b-short-term-rental/city-of-toronto\"\n",
    "url_shortTerm_base=\"/c42l1700273\"\n",
    "url_roomRoomates_rental=\"https://www.kijiji.ca/b-room-rental-roommate/city-of-toronto\"\n",
    "url_roomRoomates_base=\"/c36l1700273\"\n",
    "error_list=[]"
   ]
  },
  {
   "cell_type": "code",
   "execution_count": 190,
   "metadata": {},
   "outputs": [],
   "source": [
    "def kijiji_getUrls(url, base):\n",
    "    url_list=[]\n",
    "    for i in tqdm(range(100)):\n",
    "        url_final = url+pageNos+str(i)+base\n",
    "        response = requests.get(url_final)\n",
    "        soup = bs(response.text, \"html.parser\")\n",
    "        results= soup.find_all(\"div\", class_=\"search-item\")\n",
    "        for r in results:\n",
    "            url_list.append(\"https://www.kijiji.ca\"+r.a[\"href\"])\n",
    "    return(url_list)"
   ]
  },
  {
   "cell_type": "code",
   "execution_count": 191,
   "metadata": {},
   "outputs": [
    {
     "name": "stderr",
     "output_type": "stream",
     "text": [
      "100%|██████████| 100/100 [05:51<00:00,  3.51s/it]\n"
     ]
    },
    {
     "data": {
      "text/plain": [
       "'https://www.kijiji.ca/v-apartments-condos/city-of-toronto/bright-fully-renovated-basement-apartment-in-a-great-neighbour/1517313670'"
      ]
     },
     "execution_count": 191,
     "metadata": {},
     "output_type": "execute_result"
    }
   ],
   "source": [
    "url_list_longterm=kijiji_getUrls(url_longTerm_rental, url_longTerm_base)\n",
    "url_list_longterm[0]"
   ]
  },
  {
   "cell_type": "code",
   "execution_count": 3,
   "metadata": {},
   "outputs": [],
   "source": [
    "#with open('kijiji_longtermRental.pkl', 'wb') as f:\n",
    "    #pickle.dump(url_list_longterm, f)\n",
    "\n",
    "with open('kijiji_longtermRental.pkl', 'rb') as f:\n",
    "    kijiji_list_longterm = pickle.load(f)"
   ]
  },
  {
   "cell_type": "code",
   "execution_count": 4,
   "metadata": {},
   "outputs": [],
   "source": [
    "#url_list_shortterm=kijiji_getUrls(url_shortTerm_rental, url_shortTerm_base)\n",
    "#with open('kijiji_shorttermRental.pkl', 'wb') as f:\n",
    "    #pickle.dump(url_list_shortterm, f)\n",
    "\n",
    "with open('kijiji_shorttermRental.pkl', 'rb') as f:\n",
    "    kijiji_list_shorttermRental = pickle.load(f)\n",
    "\n",
    "#url_list_roomRoomates=kijiji_getUrls(url_roomRoomates_rental, url_roomRoomates_base)\n",
    "#with open('kijiji_roomRoomatesRental.pkl', 'wb') as f:\n",
    "    #pickle.dump(url_list_roomRoomates, f)\n",
    "\n",
    "with open('kijiji_roomRoomatesRental.pkl', 'rb') as f:\n",
    "    kijiji_list_roomRoomatesRental = pickle.load(f)"
   ]
  },
  {
   "cell_type": "code",
   "execution_count": 10,
   "metadata": {},
   "outputs": [],
   "source": [
    "url=\"https://www.kijiji.ca/v-apartments-condos/city-of-toronto/renovated-bachelor-for-rent-forest-hill/1508850924\"\n",
    "url2=\"https://www.kijiji.ca/v-apartments-condos/city-of-toronto/luxury-condo-2-bdrm-2-baths-yonge-st-clair/1516651347\"\n",
    "url3=\"https://www.kijiji.ca/v-room-rental-roommate/city-of-toronto/600-incredible-discount-200-less-per-month-from-august-15/1517738651\"\n",
    "url4= \"https://www.kijiji.ca/v-short-term-rental/city-of-toronto/downtown-fully-furnished-yonge-front/1517081941\""
   ]
  },
  {
   "cell_type": "code",
   "execution_count": 12,
   "metadata": {},
   "outputs": [],
   "source": [
    "def kijiji_url_scrape_LongTerm(kijiji_url):\n",
    "    try:\n",
    "        #driver = webdriver.Chrome()\n",
    "        #driver.get(kijiji_url)\n",
    "        response = requests.get(kijiji_url)\n",
    "        soup = bs(response.text, \"html.parser\")\n",
    "        time.sleep(1)\n",
    "        #page_source = driver.page_source\n",
    "        #soup=bs(page_source, \"html.parser\")\n",
    "\n",
    "        ad_id= soup.find(\"a\", class_=\"adId-4111206830\").text.strip()\n",
    "        title= soup.find(\"h1\", class_=\"title-2323565163\").text.strip()\n",
    "        address= soup.find(\"span\", class_=\"address-3617944557\").text.strip()\n",
    "        price= soup.find(\"div\", class_=\"priceWrapper-1165431705\").span.text.strip()\n",
    "        post_published_date= soup.find(\"div\", class_=\"datePosted-383942873\").time[\"datetime\"]\n",
    "        rental_type= soup.find_all(\"span\", class_=\"noLabelValue-3861810455\")[0].text.strip()\n",
    "        bedroom_no= soup.find_all(\"span\", class_=\"noLabelValue-3861810455\")[1].text.strip()\n",
    "        bathroom_no= soup.find_all(\"span\", class_=\"noLabelValue-3861810455\")[2].text.strip()\n",
    "        list_results= soup.find_all(\"ul\", class_=\"list-1757374920\")[1]\n",
    "\n",
    "        utilities_list=[]\n",
    "        utilities= list_results.find_all(\"svg\")\n",
    "        for util in utilities:\n",
    "            utilities_list.append(util[\"aria-label\"])\n",
    "        if(len(utilities_list)==0):\n",
    "            utilities_list.append(\"Not Included\")\n",
    "        wifi_and_more=soup.find_all(\"ul\", class_=\"list-1757374920\")[2].text.strip()\n",
    "\n",
    "\n",
    "        appliances=[]\n",
    "        results= soup.find_all(\"ul\", class_=\"list-1757374920\")[4]\n",
    "        for r in results:\n",
    "            if(r.text):\n",
    "                appliances.append(r.text.strip())\n",
    "\n",
    "        personal_outdoor_space= soup.find_all(\"ul\", class_=\"list-1757374920\")[5].text.strip()\n",
    "\n",
    "        amenities= []\n",
    "        results= soup.find_all(\"ul\", class_=\"list-1757374920\")[7]\n",
    "        for r in results:\n",
    "            if(r.text):\n",
    "                amenities.append(r.text.strip())\n",
    "        description= soup.find(\"div\", class_=\"descriptionContainer-3544745383\").p.text.strip()\n",
    "\n",
    "        dict_attributes={\n",
    "            'ad_id': ad_id,\n",
    "            'title': title,\n",
    "            'address':address,\n",
    "            'price': price,\n",
    "            'post_published_date': post_published_date,\n",
    "            'rental_type': rental_type,\n",
    "            'bedroom_no': bedroom_no,\n",
    "            'bathroom_no': bathroom_no,\n",
    "            'utilities_list': utilities_list,\n",
    "            'wifi_and_more': wifi_and_more,\n",
    "            'appliances':appliances,\n",
    "            'personal_outdoor_space': personal_outdoor_space,\n",
    "            'amenities': amenities,\n",
    "            'description': description,\n",
    "            'url': kijiji_url\n",
    "        }\n",
    "\n",
    "        dt_list=soup.find_all(\"dt\")\n",
    "        for i in range(0,len(dt_list)):\n",
    "            dict_attributes[soup.find_all(\"dt\")[i].text]=soup.find_all(\"dd\")[i].text\n",
    "    except:\n",
    "        #error_list.append(kijiji_url)\n",
    "        return(kijiji_url)\n",
    "    return(dict_attributes)\n"
   ]
  },
  {
   "cell_type": "code",
   "execution_count": 13,
   "metadata": {},
   "outputs": [],
   "source": [
    "#kijiji_list_scrape_LongTerm(url2)"
   ]
  },
  {
   "cell_type": "code",
   "execution_count": 14,
   "metadata": {},
   "outputs": [],
   "source": [
    "def kijiji_url_scrape_other(kijiji_url):\n",
    "    try:\n",
    "        #driver = webdriver.Chrome()\n",
    "        #driver.get(kijiji_url)\n",
    "        response = requests.get(kijiji_url)\n",
    "        soup = bs(response.text, \"html.parser\")\n",
    "        time.sleep(1)\n",
    "        #page_source = driver.page_source\n",
    "        #soup=bs(page_source, \"html.parser\")\n",
    "\n",
    "        ad_id= soup.find(\"a\", class_=\"adId-4111206830\").text.strip()\n",
    "        title= soup.find(\"h1\", class_=\"title-2323565163\").text.strip()\n",
    "        address= soup.find(\"span\", class_=\"address-3617944557\").text.strip()\n",
    "        price= soup.find(\"span\", class_=\"currentPrice-2842943473\").span.text.strip()\n",
    "        post_published_date= soup.find(\"div\", class_=\"datePosted-383942873\").time[\"datetime\"]\n",
    "        rental_type= soup.find(\"h1\", class_=\"crumbH1-3559413592\").span.text.strip()\n",
    "        description= soup.find(\"div\", class_=\"descriptionContainer-3544745383\").p.text.strip()\n",
    "        dict_attributes={\n",
    "            'ad_id': ad_id,\n",
    "            'title': title,\n",
    "            'address':address,\n",
    "            'price': price,\n",
    "            'post_published_date': post_published_date,\n",
    "            'rental_type': rental_type,\n",
    "            'description': description,\n",
    "            'url': kijiji_url\n",
    "        }\n",
    "\n",
    "        dt_list=soup.find_all(\"dt\")\n",
    "        for i in range(0,len(dt_list)):\n",
    "            dict_attributes[soup.find_all(\"dt\")[i].text]=soup.find_all(\"dd\")[i].text\n",
    "    except:\n",
    "        #error_list.append(kijiji_url)\n",
    "        return(kijiji_url)\n",
    "    return(dict_attributes)\n"
   ]
  },
  {
   "cell_type": "code",
   "execution_count": 15,
   "metadata": {},
   "outputs": [],
   "source": [
    "def kijiji_scrape():\n",
    "    records=[]\n",
    "    for url in tqdm(kijiji_list_longterm):\n",
    "        records.append(kijiji_url_scrape_LongTerm(url))\n",
    "        \n",
    "    for url in tqdm(kijiji_list_shortterm):\n",
    "        records.append(kijiji_url_scrape_other(url))\n",
    "        \n",
    "    for url in tqdm(kijiji_list_roomRoomates):\n",
    "        records.append(kijiji_url_scrape_other(url))\n",
    "    return(records)"
   ]
  },
  {
   "cell_type": "code",
   "execution_count": null,
   "metadata": {},
   "outputs": [
    {
     "name": "stderr",
     "output_type": "stream",
     "text": [
      " 73%|███████▎  | 3281/4500 [2:11:14<45:45,  2.25s/it]  "
     ]
    }
   ],
   "source": [
    "records= kijiji_scrape()"
   ]
  },
  {
   "cell_type": "code",
   "execution_count": null,
   "metadata": {},
   "outputs": [],
   "source": [
    "DF = pd.DataFrame(kijiji_list_longterm)\n",
    "DF.head()"
   ]
  },
  {
   "cell_type": "code",
   "execution_count": null,
   "metadata": {},
   "outputs": [],
   "source": []
  }
 ],
 "metadata": {
  "kernelspec": {
   "display_name": "Python 3",
   "language": "python",
   "name": "python3"
  },
  "language_info": {
   "codemirror_mode": {
    "name": "ipython",
    "version": 3
   },
   "file_extension": ".py",
   "mimetype": "text/x-python",
   "name": "python",
   "nbconvert_exporter": "python",
   "pygments_lexer": "ipython3",
   "version": "3.8.2"
  }
 },
 "nbformat": 4,
 "nbformat_minor": 4
}

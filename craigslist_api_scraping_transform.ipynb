{
 "cells": [
  {
   "cell_type": "code",
   "execution_count": 1,
   "metadata": {},
   "outputs": [],
   "source": [
    "#pip install python-craigslist\n",
    "\n",
    "from IPython.core.interactiveshell import InteractiveShell\n",
    "InteractiveShell.ast_node_interactivity = 'all'\n",
    "\n",
    "#Dependencies\n",
    "from craigslist import CraigslistHousing\n",
    "import timeit\n",
    "from tqdm import tqdm\n",
    "import pickle\n",
    "import requests\n",
    "from bs4 import BeautifulSoup as bs\n",
    "from selenium import webdriver\n",
    "import time\n",
    "import pandas as pd\n",
    "import missingno\n",
    "import re\n",
    "\n",
    "from urls_list import * #where all urls and paths are saved"
   ]
  },
  {
   "cell_type": "markdown",
   "metadata": {},
   "source": [
    "# Extract"
   ]
  },
  {
   "cell_type": "markdown",
   "metadata": {},
   "source": [
    "###  Craigslist api call to extract the listing url and basic information"
   ]
  },
  {
   "cell_type": "code",
   "execution_count": 2,
   "metadata": {},
   "outputs": [],
   "source": [
    "##Initially we scrape all 3000 in entire toronto. Then, we scrape on a daily posting basis from craiglist while building app\n",
    "#https://toronto.craigslist.org/search/apa?bundleDuplicates=1&availabilityMode=0&sale_date=all+dates"
   ]
  },
  {
   "cell_type": "code",
   "execution_count": 3,
   "metadata": {},
   "outputs": [],
   "source": [
    "def craigs_list_api_call():\n",
    "    \n",
    "    cl_tor_housing = CraigslistHousing(site='toronto',\n",
    "                             filters={'bundle_duplicates': 1})\n",
    "\n",
    "    #If geotagged=True, the results will include the (lat, lng) in the 'geotag' attrib (this will make the process a little bit longer).\n",
    "    craiglist_housing = []\n",
    "\n",
    "    start = timeit.timeit()\n",
    "    for result in tqdm(cl_tor_housing.get_results(sort_by='newest', geotagged=True)):\n",
    "        craiglist_housing.append(result)\n",
    "    end = timeit.timeit()\n",
    "    print(f\"Time elapsed is {end - start}\")\n",
    "    return craiglist_housing\n",
    "\n",
    "#craiglist_housing = craigs_list_api_call()"
   ]
  },
  {
   "cell_type": "code",
   "execution_count": 4,
   "metadata": {},
   "outputs": [],
   "source": [
    "#with open('craiglist_housing.pkl', 'wb') as f:\n",
    "    #pickle.dump(craiglist_housing, f)\n",
    "\n",
    "with open('craiglist_housing.pkl', 'rb') as f:\n",
    "    craiglist_housing = pickle.load(f)"
   ]
  },
  {
   "cell_type": "markdown",
   "metadata": {},
   "source": [
    "###  Scraping the craigslist posting data using the urls obtained through API call"
   ]
  },
  {
   "cell_type": "code",
   "execution_count": 5,
   "metadata": {},
   "outputs": [],
   "source": [
    "def instatiate_driver():\n",
    "    #########################################################################################\n",
    "    #Instatiate Selenium driver\n",
    "    #Returns the handle object\n",
    "    #########################################################################################\n",
    "    chrome_options = webdriver.ChromeOptions()\n",
    "    CHROMEDRIVER_PATH = executable_path\n",
    "    chrome_options.add_argument('--disable-gpu')\n",
    "    chrome_options.add_argument('--no-sandbox')\n",
    "    chrome_options.add_argument('--headless')\n",
    "    driver = webdriver.Chrome(executable_path=CHROMEDRIVER_PATH, options=chrome_options)\n",
    "    return driver"
   ]
  },
  {
   "cell_type": "code",
   "execution_count": 6,
   "metadata": {},
   "outputs": [],
   "source": [
    "def craigs_list_scrape(craigs_list_post_docs):\n",
    "    #Instatiate the selenium driver\n",
    "    driver = instatiate_driver()\n",
    "    error_list = []\n",
    "    \n",
    "\n",
    "    craigs_list_post_docs_cp = craigs_list_post_docs.copy()\n",
    "    for post in tqdm(craigs_list_post_docs_cp):\n",
    "\n",
    "        #Visit the url\n",
    "        driver.get(post['url'])\n",
    "\n",
    "        #Separate Try Except to handle each cases separately\n",
    "        #Apartment feature(Some extra feature beside the title)\n",
    "        try:\n",
    "            apartment_feature = driver.find_element_by_css_selector('span[class=\"postingtitletext\"] span[class=\"housing\"]').text\n",
    "        except:\n",
    "            #print(post['id'])\n",
    "            error_list.append({post['id']:'apartment_feature'})\n",
    "            apartment_feature = None\n",
    "        finally:\n",
    "            post['apartment_feature'] = apartment_feature\n",
    "\n",
    "        #First image if present   \n",
    "        try:\n",
    "            image = None\n",
    "            if post['has_image']:\n",
    "                image = driver.find_element_by_css_selector('div[class=\"gallery\"]').find_element_by_css_selector('img').get_attribute('src')\n",
    "        except:\n",
    "            print(post['id'])\n",
    "            error_list.append({post['id']:'image'})\n",
    "        finally:\n",
    "            post['has_image'] = image\n",
    "\n",
    "        #Body of the post  \n",
    "        try:\n",
    "            posting = driver.find_element_by_id(\"postingbody\").text\n",
    "        except:\n",
    "            print(post['id'])\n",
    "            error_list.append({post['id']:'postingbody'})\n",
    "            posting = None\n",
    "        finally:\n",
    "            post['posting'] = posting\n",
    "\n",
    "        #Attributes      \n",
    "        try:\n",
    "            attributes = [elem.text for elem in driver.find_elements_by_css_selector('p[class=\"attrgroup\"]  span')]\n",
    "        except:\n",
    "            print(post['id'])\n",
    "            error_list.append({post['id']:'attributes'})\n",
    "            attributes = []\n",
    "        finally:\n",
    "            post['attributes'] = attributes\n",
    "            \n",
    "        time.sleep(1)\n",
    "            \n",
    "    driver.quit()       \n",
    "    return craigs_list_post_docs_cp\n",
    "    "
   ]
  },
  {
   "cell_type": "code",
   "execution_count": 7,
   "metadata": {},
   "outputs": [],
   "source": [
    "#craiglist_housing_enriched = craigs_list_scrape(craiglist_housing)"
   ]
  },
  {
   "cell_type": "code",
   "execution_count": 8,
   "metadata": {},
   "outputs": [],
   "source": [
    "#with open('craiglist_housing_enriched.pkl', 'wb') as f:\n",
    "    #pickle.dump(craiglist_housing_enriched, f)\n",
    "\n",
    "with open('craiglist_housing_enriched.pkl', 'rb') as f:\n",
    "    craiglist_renting_data = pickle.load(f)"
   ]
  },
  {
   "cell_type": "markdown",
   "metadata": {},
   "source": [
    "# Transform"
   ]
  },
  {
   "cell_type": "markdown",
   "metadata": {},
   "source": [
    "### Initial form of data after scraping"
   ]
  },
  {
   "cell_type": "code",
   "execution_count": 383,
   "metadata": {},
   "outputs": [
    {
     "data": {
      "text/html": [
       "<div>\n",
       "<style scoped>\n",
       "    .dataframe tbody tr th:only-of-type {\n",
       "        vertical-align: middle;\n",
       "    }\n",
       "\n",
       "    .dataframe tbody tr th {\n",
       "        vertical-align: top;\n",
       "    }\n",
       "\n",
       "    .dataframe thead th {\n",
       "        text-align: right;\n",
       "    }\n",
       "</style>\n",
       "<table border=\"1\" class=\"dataframe\">\n",
       "  <thead>\n",
       "    <tr style=\"text-align: right;\">\n",
       "      <th></th>\n",
       "      <th>id</th>\n",
       "      <th>repost_of</th>\n",
       "      <th>name</th>\n",
       "      <th>url</th>\n",
       "      <th>datetime</th>\n",
       "      <th>last_updated</th>\n",
       "      <th>price</th>\n",
       "      <th>where</th>\n",
       "      <th>has_image</th>\n",
       "      <th>geotag</th>\n",
       "      <th>deleted</th>\n",
       "      <th>apartment_feature</th>\n",
       "      <th>posting</th>\n",
       "      <th>attributes</th>\n",
       "    </tr>\n",
       "  </thead>\n",
       "  <tbody>\n",
       "    <tr>\n",
       "      <th>0</th>\n",
       "      <td>7175656775</td>\n",
       "      <td>None</td>\n",
       "      <td>2 Bedrooms Apartment for Rent - 1350 Danforth ...</td>\n",
       "      <td>https://toronto.craigslist.org/tor/apa/d/scarb...</td>\n",
       "      <td>2020-08-11 17:00</td>\n",
       "      <td>2020-08-11 17:00</td>\n",
       "      <td>$1,350</td>\n",
       "      <td>1350 Danforth Road</td>\n",
       "      <td>https://images.craigslist.org/00F0F_l6VTmsBVGh...</td>\n",
       "      <td>(43.7464, -79.2323)</td>\n",
       "      <td>False</td>\n",
       "      <td>/ 2br -</td>\n",
       "      <td>Please view our available units by clicking on...</td>\n",
       "      <td>[2BR / 1Ba, cats are OK - purrr, dogs are OK -...</td>\n",
       "    </tr>\n",
       "    <tr>\n",
       "      <th>1</th>\n",
       "      <td>7175641724</td>\n",
       "      <td>4905301368</td>\n",
       "      <td>☎2 Room+Separate Reception @Etobicoke/Miss☎</td>\n",
       "      <td>https://toronto.craigslist.org/tor/off/d/2-roo...</td>\n",
       "      <td>2020-08-11 16:59</td>\n",
       "      <td>2020-08-11 16:59</td>\n",
       "      <td>$1,599</td>\n",
       "      <td>Skymark Ave</td>\n",
       "      <td>https://images.craigslist.org/00q0q_hhCvFpP61t...</td>\n",
       "      <td>(43.663625, -79.593099)</td>\n",
       "      <td>False</td>\n",
       "      <td>None</td>\n",
       "      <td>*SPECIAL OFFER - $200 off the monthly rent for...</td>\n",
       "      <td>[]</td>\n",
       "    </tr>\n",
       "    <tr>\n",
       "      <th>2</th>\n",
       "      <td>7175652366</td>\n",
       "      <td>7156890373</td>\n",
       "      <td>87 Peter - Slate - 1bed Sept 1</td>\n",
       "      <td>https://toronto.craigslist.org/tor/apa/d/toron...</td>\n",
       "      <td>2020-08-11 16:53</td>\n",
       "      <td>2020-08-11 16:53</td>\n",
       "      <td>$2,000</td>\n",
       "      <td>downtown</td>\n",
       "      <td>https://images.craigslist.org/01212_1tx3p0rlYW...</td>\n",
       "      <td>(43.646603, -79.392271)</td>\n",
       "      <td>False</td>\n",
       "      <td>/ 1br - 538ft2 -</td>\n",
       "      <td>87 Peter St –#3311 Slate – 1bed/1bath - 538 Sq...</td>\n",
       "      <td>[1BR / 1Ba, 538ft2, available sep 1, cats are ...</td>\n",
       "    </tr>\n",
       "    <tr>\n",
       "      <th>3</th>\n",
       "      <td>7175652126</td>\n",
       "      <td>7156846968</td>\n",
       "      <td>Harbour Plaza! 1Bed/1Bath +media area - September</td>\n",
       "      <td>https://toronto.craigslist.org/tor/apa/d/toron...</td>\n",
       "      <td>2020-08-11 16:52</td>\n",
       "      <td>2020-08-11 16:52</td>\n",
       "      <td>$2,250</td>\n",
       "      <td>Waterfront</td>\n",
       "      <td>https://images.craigslist.org/00Q0Q_huAI9VgN8a...</td>\n",
       "      <td>(43.641093, -79.380324)</td>\n",
       "      <td>False</td>\n",
       "      <td>/ 1br - 595ft2 -</td>\n",
       "      <td>$2250 - 88 Harbour #2405 – 1Bed/1Bath (media a...</td>\n",
       "      <td>[1BR / 1Ba, 595ft2, available sep 1, condo, w/...</td>\n",
       "    </tr>\n",
       "    <tr>\n",
       "      <th>4</th>\n",
       "      <td>7175651860</td>\n",
       "      <td>6808310702</td>\n",
       "      <td>The Eglinton / Redpath -studio</td>\n",
       "      <td>https://toronto.craigslist.org/tor/apa/d/toron...</td>\n",
       "      <td>2020-08-11 16:52</td>\n",
       "      <td>2020-08-11 16:52</td>\n",
       "      <td>$1,750</td>\n",
       "      <td>125 Redpath Ave</td>\n",
       "      <td>https://images.craigslist.org/00J0J_3SYJ5EqHxl...</td>\n",
       "      <td>(43.707766, -79.392611)</td>\n",
       "      <td>False</td>\n",
       "      <td>/ 1br - 359ft2 -</td>\n",
       "      <td>The Eglinton- Maxwell #2711 -359 SqFt Studio $...</td>\n",
       "      <td>[1BR / 2Ba, 359ft2, available aug 14, condo, w...</td>\n",
       "    </tr>\n",
       "  </tbody>\n",
       "</table>\n",
       "</div>"
      ],
      "text/plain": [
       "           id   repost_of                                               name  \\\n",
       "0  7175656775        None  2 Bedrooms Apartment for Rent - 1350 Danforth ...   \n",
       "1  7175641724  4905301368        ☎2 Room+Separate Reception @Etobicoke/Miss☎   \n",
       "2  7175652366  7156890373                     87 Peter - Slate - 1bed Sept 1   \n",
       "3  7175652126  7156846968  Harbour Plaza! 1Bed/1Bath +media area - September   \n",
       "4  7175651860  6808310702                     The Eglinton / Redpath -studio   \n",
       "\n",
       "                                                 url          datetime  \\\n",
       "0  https://toronto.craigslist.org/tor/apa/d/scarb...  2020-08-11 17:00   \n",
       "1  https://toronto.craigslist.org/tor/off/d/2-roo...  2020-08-11 16:59   \n",
       "2  https://toronto.craigslist.org/tor/apa/d/toron...  2020-08-11 16:53   \n",
       "3  https://toronto.craigslist.org/tor/apa/d/toron...  2020-08-11 16:52   \n",
       "4  https://toronto.craigslist.org/tor/apa/d/toron...  2020-08-11 16:52   \n",
       "\n",
       "       last_updated   price               where  \\\n",
       "0  2020-08-11 17:00  $1,350  1350 Danforth Road   \n",
       "1  2020-08-11 16:59  $1,599         Skymark Ave   \n",
       "2  2020-08-11 16:53  $2,000            downtown   \n",
       "3  2020-08-11 16:52  $2,250          Waterfront   \n",
       "4  2020-08-11 16:52  $1,750     125 Redpath Ave   \n",
       "\n",
       "                                           has_image                   geotag  \\\n",
       "0  https://images.craigslist.org/00F0F_l6VTmsBVGh...      (43.7464, -79.2323)   \n",
       "1  https://images.craigslist.org/00q0q_hhCvFpP61t...  (43.663625, -79.593099)   \n",
       "2  https://images.craigslist.org/01212_1tx3p0rlYW...  (43.646603, -79.392271)   \n",
       "3  https://images.craigslist.org/00Q0Q_huAI9VgN8a...  (43.641093, -79.380324)   \n",
       "4  https://images.craigslist.org/00J0J_3SYJ5EqHxl...  (43.707766, -79.392611)   \n",
       "\n",
       "   deleted apartment_feature  \\\n",
       "0    False           / 2br -   \n",
       "1    False              None   \n",
       "2    False  / 1br - 538ft2 -   \n",
       "3    False  / 1br - 595ft2 -   \n",
       "4    False  / 1br - 359ft2 -   \n",
       "\n",
       "                                             posting  \\\n",
       "0  Please view our available units by clicking on...   \n",
       "1  *SPECIAL OFFER - $200 off the monthly rent for...   \n",
       "2  87 Peter St –#3311 Slate – 1bed/1bath - 538 Sq...   \n",
       "3  $2250 - 88 Harbour #2405 – 1Bed/1Bath (media a...   \n",
       "4  The Eglinton- Maxwell #2711 -359 SqFt Studio $...   \n",
       "\n",
       "                                          attributes  \n",
       "0  [2BR / 1Ba, cats are OK - purrr, dogs are OK -...  \n",
       "1                                                 []  \n",
       "2  [1BR / 1Ba, 538ft2, available sep 1, cats are ...  \n",
       "3  [1BR / 1Ba, 595ft2, available sep 1, condo, w/...  \n",
       "4  [1BR / 2Ba, 359ft2, available aug 14, condo, w...  "
      ]
     },
     "execution_count": 383,
     "metadata": {},
     "output_type": "execute_result"
    }
   ],
   "source": [
    "DF = pd.DataFrame(craiglist_renting_data)\n",
    "DF.head()"
   ]
  },
  {
   "cell_type": "markdown",
   "metadata": {},
   "source": [
    "### Remove Duplicates and unreliable data\n",
    "- All duplicated data are removed\n",
    "- Dont consider empty postings\n",
    "- Drop all those rows which don't have both 'geotag' and 'where'"
   ]
  },
  {
   "cell_type": "code",
   "execution_count": 384,
   "metadata": {},
   "outputs": [],
   "source": [
    "## Check for duplicates in the dataset"
   ]
  },
  {
   "cell_type": "code",
   "execution_count": 385,
   "metadata": {},
   "outputs": [
    {
     "data": {
      "text/html": [
       "<div>\n",
       "<style scoped>\n",
       "    .dataframe tbody tr th:only-of-type {\n",
       "        vertical-align: middle;\n",
       "    }\n",
       "\n",
       "    .dataframe tbody tr th {\n",
       "        vertical-align: top;\n",
       "    }\n",
       "\n",
       "    .dataframe thead th {\n",
       "        text-align: right;\n",
       "    }\n",
       "</style>\n",
       "<table border=\"1\" class=\"dataframe\">\n",
       "  <thead>\n",
       "    <tr style=\"text-align: right;\">\n",
       "      <th></th>\n",
       "      <th>id</th>\n",
       "      <th>repost_of</th>\n",
       "      <th>name</th>\n",
       "      <th>url</th>\n",
       "      <th>datetime</th>\n",
       "      <th>last_updated</th>\n",
       "      <th>price</th>\n",
       "      <th>where</th>\n",
       "      <th>has_image</th>\n",
       "      <th>geotag</th>\n",
       "      <th>deleted</th>\n",
       "      <th>apartment_feature</th>\n",
       "      <th>posting</th>\n",
       "      <th>attributes</th>\n",
       "    </tr>\n",
       "  </thead>\n",
       "  <tbody>\n",
       "  </tbody>\n",
       "</table>\n",
       "</div>"
      ],
      "text/plain": [
       "Empty DataFrame\n",
       "Columns: [id, repost_of, name, url, datetime, last_updated, price, where, has_image, geotag, deleted, apartment_feature, posting, attributes]\n",
       "Index: []"
      ]
     },
     "execution_count": 385,
     "metadata": {},
     "output_type": "execute_result"
    }
   ],
   "source": [
    "duplicates = DF[DF.duplicated(DF.columns[:-1], keep=False)] #Duplicates cannot hash list\n",
    "DF.drop_duplicates(subset=DF.columns[:-1], keep=\"first\", inplace=True)\n",
    "#Now id is unique\n",
    "DF[DF.duplicated(DF.columns[0], keep=False)]\n"
   ]
  },
  {
   "cell_type": "code",
   "execution_count": 386,
   "metadata": {},
   "outputs": [
    {
     "data": {
      "text/plain": [
       "(21, 14)"
      ]
     },
     "execution_count": 386,
     "metadata": {},
     "output_type": "execute_result"
    },
    {
     "data": {
      "image/png": "[encoded data removed]",
      "text/plain": [
       "<Figure size 1800x720 with 2 Axes>"
      ]
     },
     "metadata": {
      "needs_background": "light"
     },
     "output_type": "display_data"
    }
   ],
   "source": [
    "#Check for nan\n",
    "missingdata_cols = DF.columns[DF.isnull().any()].to_list()\n",
    "#visualize nan\n",
    "_=missingno.matrix(DF[missingdata_cols], color=(0.65,0.84,0.84))\n",
    "#Dont consider empty postings\n",
    "DF.dropna(subset=['posting'], inplace=True)\n",
    "\n",
    "#Location:- Coming to whereabouts, in most of the cases, we have geotag. Some of the cases which doesn't have geotag,\n",
    "#we have \"where\". Check below.\n",
    "DF[DF[['geotag', 'where']].apply(lambda x: (x['where'] is not None) and  (x['geotag'] is None) , axis=1)].shape\n",
    "#We need to drop all those rows which don't have both\n",
    "DF.dropna(subset=['where', 'geotag'], how='all', inplace=True)"
   ]
  },
  {
   "cell_type": "markdown",
   "metadata": {},
   "source": [
    "## Deive new Features\n",
    "- Combine the \"attributes\", \"apartment_feature\", \"posting\" together as \"text\" column for string search using regex to derive new features\n",
    "- New features derived are\n",
    "    - sf - Square Feet : (int or None) Based on ft2|SqFt in the text data\n",
    "    - br - Bed Room: (float or None) Number of bedrooms, based on what is preceding BR \n",
    "    - ba - Bath: (float or None) Number of bath, based on what is preceding Ba\n",
    "    - cats_allowed - True or False, based on the presence of 'cats are OK - purrr'\n",
    "    - dogs are OK - wooof - True or False, based on the presence of 'dogs are OK - wooof'\n",
    "    - Type - Type of the housing 1 out of ``['condo', 'house', 'apartment', 'suite', 'townhouse', 'loft', 'duplex',\n",
    "       'flat', 'cottage', 'land']`` or ``None``\n",
    "    - furnished - True/Flase/None - based on the presense of (un|non)(-) furnished strings or nothing\n",
    "    "
   ]
  },
  {
   "cell_type": "markdown",
   "metadata": {},
   "source": [
    "```unique_attributes = set()\n",
    "for entry in DF['attributes']:\n",
    "    unique_attributes = unique_attributes.union(set(entry))\n",
    "unique_attributes```  "
   ]
  },
  {
   "cell_type": "code",
   "execution_count": 387,
   "metadata": {},
   "outputs": [],
   "source": [
    "#Convert list to string\n",
    "DF['attributes'] = DF['attributes'].map(lambda x: ' '.join(x))\n",
    "#Convert the apartment feature none to ''(string)\n",
    "DF['apartment_feature'].fillna(value=' ', inplace=True)#A string val\n",
    "#Combine the \"attributes\", \"apartment_feature\", \"posting\" together as \"text\" column\n",
    "DF[\"text\"] = DF.apply(lambda x: x[\"attributes\"]+x[\"apartment_feature\"]+x[\"posting\"], axis=1)\n",
    "#Use DF[\"text\"] for all further extractions \n",
    "\n"
   ]
  },
  {
   "cell_type": "code",
   "execution_count": 388,
   "metadata": {},
   "outputs": [],
   "source": [
    "def extract(s):\n",
    "    #DF['Text'] comes here as the input\n",
    "    #Square Feet\n",
    "    sf_found = re.findall('(\\d+) *(ft2|SqFt)', s)\n",
    "    sf =  (None if not sf_found else int(sf_found[0][0]))\n",
    "\n",
    "    #Bed Room\n",
    "    br_found = re.findall('(\\d){0,1}(.5){0,1} *BR', s)\n",
    "    br =  (None if not br_found  else float(''.join(br_found[0])))\n",
    "    \n",
    "    #Bath\n",
    "    ba_found = re.findall('(\\d){0,1}(.5){0,1}(\\+){0,1} *B[aA]',s)\n",
    "    ba =  (None if not ba_found  else float(''.join(ba_found[0])))\n",
    "    \n",
    "    #'cats are OK - purrr'\n",
    "    cats_allowed = (True if re.findall('cats are OK - purrr', s) else False)\n",
    "    \n",
    "    #'dogs are OK - wooof'\n",
    "    dogs_allowed = (True if re.findall('dogs are OK - wooof', s) else False)\n",
    "    \n",
    "    #Check the type of the commodity\n",
    "    re.sub(r'[\\n\\.,!/?()]', ' ', DF['text'].iloc[0].lower()) #Remove unnecessary chars. We need to capture apartment\\ also as word apartment\n",
    "    cleaned_s = re.sub('[\\n\\\\.,!\\/?]', ' ', s)\n",
    "    found_type = re.findall(r\"\\b(townhouse|loft|land|house|flat|duplex|condo|cottage|suite)\\b\", cleaned_s, flags=re.IGNORECASE) \n",
    "    Type = (None if not found_type else found_type[0].lower())\n",
    "    #Though apartment is a generic term, some people mention the type as apartment, we are going to take that as the last priority\n",
    "    #if nothing else is mentioned\n",
    "    if not Type:\n",
    "        found_type = re.findall(r\"\\bapartment\\b\", cleaned_s, flags=re.IGNORECASE)\n",
    "        Type = (None if not found_type else found_type[0].lower())\n",
    "        \n",
    "    #Furnished or Unfurnished checks\n",
    "    found_un = re.findall('(non|un)-*(?=furnished)', s , flags=re.IGNORECASE)\n",
    "    furnished = False\n",
    "    if not found_un:\n",
    "        #furnished = None #Nothing found\n",
    "        found_furnished = re.findall('furnished', s , flags=re.IGNORECASE)\n",
    "        furnished = (None if not found_furnished else True)\n",
    "    \n",
    "    return [sf,br,ba, cats_allowed, dogs_allowed, Type, furnished]"
   ]
  },
  {
   "cell_type": "code",
   "execution_count": 389,
   "metadata": {},
   "outputs": [],
   "source": [
    "DF[['sf', 'BR', 'Ba','cats_allowed', 'dogs_allowed', 'Type', 'furnished']] = pd.DataFrame(DF['text'].map(lambda x : extract(x)).to_list(), index=DF.index)"
   ]
  },
  {
   "cell_type": "code",
   "execution_count": 390,
   "metadata": {},
   "outputs": [
    {
     "data": {
      "image/png": "[encoded data removed]",
      "text/plain": [
       "<Figure size 1800x720 with 2 Axes>"
      ]
     },
     "metadata": {
      "needs_background": "light"
     },
     "output_type": "display_data"
    }
   ],
   "source": [
    "#Check for nan\n",
    "missingdata_cols = DF.columns[DF.isnull().any()].to_list()\n",
    "#visualize nan\n",
    "_=missingno.matrix(DF[missingdata_cols], color=(0.7,0.3,0.3))\n"
   ]
  }
 ],
 "metadata": {
  "kernelspec": {
   "display_name": "Python 3",
   "language": "python",
   "name": "python3"
  },
  "language_info": {
   "codemirror_mode": {
    "name": "ipython",
    "version": 3
   },
   "file_extension": ".py",
   "mimetype": "text/x-python",
   "name": "python",
   "nbconvert_exporter": "python",
   "pygments_lexer": "ipython3",
   "version": "3.8.1"
  }
 },
 "nbformat": 4,
 "nbformat_minor": 4
}

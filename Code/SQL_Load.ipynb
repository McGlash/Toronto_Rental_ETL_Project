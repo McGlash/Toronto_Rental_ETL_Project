{
 "cells": [
  {
   "cell_type": "code",
   "execution_count": null,
   "metadata": {},
   "outputs": [],
   "source": [
    "from IPython.core.interactiveshell import InteractiveShell\n",
    "InteractiveShell.ast_node_interactivity = 'all'\n",
    "\n",
    "\n",
    "import os\n",
    "import pandas as pd"
   ]
  },
  {
   "cell_type": "markdown",
   "metadata": {},
   "source": [
    "# Import all the Data"
   ]
  },
  {
   "cell_type": "code",
   "execution_count": null,
   "metadata": {},
   "outputs": [],
   "source": [
    "loc = os.path.join(\".\", \"Output\")"
   ]
  },
  {
   "cell_type": "code",
   "execution_count": null,
   "metadata": {},
   "outputs": [],
   "source": [
    "Rental_craigslist = pd.read_csv(os.path(loc, 'Rental_Craigslist.csv'))\n",
    "crime_data = pd.read_csv(os.path.join(loc, 'Crime.csv'))\n",
    "bridge_table = pd.read_csv(os.path.join(loc, 'Bridge_Rental_Crime_Craigslist.csv'))"
   ]
  },
  {
   "cell_type": "code",
   "execution_count": null,
   "metadata": {},
   "outputs": [],
   "source": [
    "#DF.to_csv('Output/Rental_Craigslist.csv', index=False)\n",
    "#crime_data.to_csv('Output/Crime.csv', index=False)\n",
    "#bridge_table.to_csv('Output/Bridge_Rental_Crime_Craigslist.csv')"
   ]
  }
 ],
 "metadata": {
  "kernelspec": {
   "display_name": "Python 3",
   "language": "python",
   "name": "python3"
  }
 },
 "nbformat": 4,
 "nbformat_minor": 4
}

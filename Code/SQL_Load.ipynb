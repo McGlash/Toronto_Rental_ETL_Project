{
 "cells": [
  {
   "cell_type": "code",
   "execution_count": 7,
   "metadata": {},
   "outputs": [],
   "source": [
    "from IPython.core.interactiveshell import InteractiveShell\n",
    "InteractiveShell.ast_node_interactivity = 'all'\n",
    "\n",
    "\n",
    "import os\n",
    "import pandas as pd\n",
    "from sqlalchemy import create_engine\n"
   ]
  },
  {
   "cell_type": "markdown",
   "metadata": {},
   "source": [
    "### Import all the Final (transformed)Data"
   ]
  },
  {
   "cell_type": "code",
   "execution_count": 2,
   "metadata": {},
   "outputs": [],
   "source": [
    "Rental_craigslist = pd.read_csv(os.path.join(\"..\", \"Output\", 'Rental_Craigslist.csv'))\n",
    "Rental_kijiji = pd.read_csv(os.path.join(\"..\", \"Output\", 'Rental_Kijiji.csv'))\n",
    "crime_data = pd.read_csv(os.path.join(\"..\", \"Output\", 'Crime.csv'))\n",
    "bridge_table = pd.read_csv(os.path.join(\"..\", \"Output\", 'Bridge_Rental_Crime_Craigslist.csv'))\n",
    "bridge_table_kijiji = pd.read_csv(os.path.join(\"..\", \"Output\", 'bridge_table_kijiji_final.csv'))\n",
    "community_services_table = pd.read_csv(os.path.join(\"..\", \"Output\", 'community_assets.csv'))\n",
    "fsa_income_table=pd.read_csv(os.path.join(\"..\", \"Output\", 'Toronto_FSA.csv'))"
   ]
  },
  {
   "cell_type": "code",
   "execution_count": 21,
   "metadata": {},
   "outputs": [],
   "source": [
    "fsa_income_table=pd.read_csv(os.path.join(\"..\", \"Output\", 'Toronto_FSA_Final.csv'))"
   ]
  },
  {
   "cell_type": "code",
   "execution_count": null,
   "metadata": {},
   "outputs": [],
   "source": [
    "#DF.to_csv('Output/Rental_Craigslist.csv', index=False)\n",
    "#crime_data.to_csv('Output/Crime.csv', index=False)\n",
    "#bridge_table.to_csv('Output/Bridge_Rental_Crime_Craigslist.csv')"
   ]
  },
  {
   "cell_type": "markdown",
   "metadata": {},
   "source": [
    "### Create database connection"
   ]
  },
  {
   "cell_type": "code",
   "execution_count": 13,
   "metadata": {},
   "outputs": [],
   "source": [
    "connection_string = \"postgres:postgres@localhost:5432/ETL_Rental_DB\"\n",
    "engine = create_engine(f'postgresql://{connection_string}', echo=True)"
   ]
  },
  {
   "cell_type": "code",
   "execution_count": 14,
   "metadata": {},
   "outputs": [
    {
     "name": "stdout",
     "output_type": "stream",
     "text": [
      "2020-08-15 14:37:40,025 INFO sqlalchemy.engine.base.Engine select version()\n",
      "2020-08-15 14:37:40,026 INFO sqlalchemy.engine.base.Engine {}\n",
      "2020-08-15 14:37:40,028 INFO sqlalchemy.engine.base.Engine select current_schema()\n",
      "2020-08-15 14:37:40,030 INFO sqlalchemy.engine.base.Engine {}\n",
      "2020-08-15 14:37:40,044 INFO sqlalchemy.engine.base.Engine SELECT CAST('test plain returns' AS VARCHAR(60)) AS anon_1\n",
      "2020-08-15 14:37:40,045 INFO sqlalchemy.engine.base.Engine {}\n",
      "2020-08-15 14:37:40,113 INFO sqlalchemy.engine.base.Engine SELECT CAST('test unicode returns' AS VARCHAR(60)) AS anon_1\n",
      "2020-08-15 14:37:40,114 INFO sqlalchemy.engine.base.Engine {}\n",
      "2020-08-15 14:37:40,162 INFO sqlalchemy.engine.base.Engine show standard_conforming_strings\n",
      "2020-08-15 14:37:40,164 INFO sqlalchemy.engine.base.Engine {}\n",
      "2020-08-15 14:37:40,200 INFO sqlalchemy.engine.base.Engine SELECT c.relname FROM pg_class c JOIN pg_namespace n ON n.oid = c.relnamespace WHERE n.nspname = %(schema)s AND c.relkind in ('r', 'p')\n",
      "2020-08-15 14:37:40,203 INFO sqlalchemy.engine.base.Engine {'schema': 'public'}\n"
     ]
    },
    {
     "data": {
      "text/plain": [
       "['Rental', 'Crime', 'Bridge_Rental_Crime', 'Community_Assets', 'Income']"
      ]
     },
     "execution_count": 14,
     "metadata": {},
     "output_type": "execute_result"
    }
   ],
   "source": [
    "engine.table_names()"
   ]
  },
  {
   "cell_type": "markdown",
   "metadata": {},
   "source": [
    "### Load the tables based on foreign key relationship"
   ]
  },
  {
   "cell_type": "code",
   "execution_count": 6,
   "metadata": {},
   "outputs": [],
   "source": [
    "#Rental_craigslist.to_sql(name=\"Rental\", con=engine, if_exists='append', index=False)"
   ]
  },
  {
   "cell_type": "code",
   "execution_count": 7,
   "metadata": {},
   "outputs": [],
   "source": [
    "#crime_data.to_sql(name=\"Crime\", con=engine, if_exists='append', index=False)"
   ]
  },
  {
   "cell_type": "code",
   "execution_count": 8,
   "metadata": {},
   "outputs": [],
   "source": [
    "#bridge_table.to_sql(name=\"Bridge_Rental_Crime\", con=engine, if_exists='append', index=False)"
   ]
  },
  {
   "cell_type": "code",
   "execution_count": 9,
   "metadata": {},
   "outputs": [],
   "source": [
    "#bridge_table_kijiji.to_sql(name=\"Bridge_Rental_Crime\", con=engine, if_exists='append', index=False)"
   ]
  },
  {
   "cell_type": "code",
   "execution_count": 10,
   "metadata": {},
   "outputs": [],
   "source": [
    "#Rental_kijiji.to_sql(name=\"Rental\", con=engine, if_exists='append', index=False)"
   ]
  },
  {
   "cell_type": "code",
   "execution_count": 13,
   "metadata": {},
   "outputs": [],
   "source": [
    "#community_services_table.to_sql(name=\"Community_Assets\", con=engine, if_exists='append', index=False)"
   ]
  },
  {
   "cell_type": "code",
   "execution_count": 24,
   "metadata": {},
   "outputs": [],
   "source": [
    "#fsa_income_table.to_sql(name=\"Income\", con=engine, if_exists='append', index=False)"
   ]
  }
 ],
 "metadata": {
  "kernelspec": {
   "display_name": "Python 3",
   "language": "python",
   "name": "python3"
  },
  "language_info": {
   "codemirror_mode": {
    "name": "ipython",
    "version": 3
   },
   "file_extension": ".py",
   "mimetype": "text/x-python",
   "name": "python",
   "nbconvert_exporter": "python",
   "pygments_lexer": "ipython3",
   "version": "3.8.1"
  }
 },
 "nbformat": 4,
 "nbformat_minor": 4
}

{
 "cells": [
  {
   "cell_type": "code",
   "execution_count": 10,
   "metadata": {},
   "outputs": [],
   "source": [
    "from IPython.core.interactiveshell import InteractiveShell\n",
    "InteractiveShell.ast_node_interactivity = 'all'\n",
    "\n",
    "\n",
    "import os\n",
    "import pandas as pd\n",
    "from sqlalchemy import create_engine"
   ]
  },
  {
   "cell_type": "markdown",
   "metadata": {},
   "source": [
    "### Import all the Final (transformed)Data"
   ]
  },
  {
   "cell_type": "code",
   "execution_count": 23,
   "metadata": {},
   "outputs": [],
   "source": [
    "Rental_craigslist = pd.read_csv(os.path.join(\"..\", \"Output\", 'Rental_Craigslist.csv'))\n",
    "Rental_kijiji = pd.read_csv(os.path.join(\"..\", \"Output\", 'Rental_Kijiji.csv'))\n",
    "crime_data = pd.read_csv(os.path.join(\"..\", \"Output\", 'Crime.csv'))\n",
    "bridge_table = pd.read_csv(os.path.join(\"..\", \"Output\", 'Bridge_Rental_Crime_Craigslist.csv'))\n",
    "bridge_table_kijiji = pd.read_csv(os.path.join(\"..\", \"Output\", 'bridge_table_kijiji_final.csv'))"
   ]
  },
  {
   "cell_type": "code",
   "execution_count": 12,
   "metadata": {},
   "outputs": [],
   "source": [
    "#DF.to_csv('Output/Rental_Craigslist.csv', index=False)\n",
    "#crime_data.to_csv('Output/Crime.csv', index=False)\n",
    "#bridge_table.to_csv('Output/Bridge_Rental_Crime_Craigslist.csv')"
   ]
  },
  {
   "cell_type": "markdown",
   "metadata": {},
   "source": [
    "### Create database connection"
   ]
  },
  {
   "cell_type": "code",
   "execution_count": 13,
   "metadata": {},
   "outputs": [],
   "source": [
    "connection_string = \"postgres:postgres@localhost:5432/ETL_Rental_DB\"\n",
    "engine = create_engine(f'postgresql://{connection_string}', echo=True)"
   ]
  },
  {
   "cell_type": "code",
   "execution_count": 14,
   "metadata": {},
   "outputs": [
    {
     "name": "stdout",
     "output_type": "stream",
     "text": [
      "2020-08-15 11:02:20,044 INFO sqlalchemy.engine.base.Engine select version()\n",
      "2020-08-15 11:02:20,045 INFO sqlalchemy.engine.base.Engine {}\n",
      "2020-08-15 11:02:20,052 INFO sqlalchemy.engine.base.Engine select current_schema()\n",
      "2020-08-15 11:02:20,053 INFO sqlalchemy.engine.base.Engine {}\n",
      "2020-08-15 11:02:20,062 INFO sqlalchemy.engine.base.Engine SELECT CAST('test plain returns' AS VARCHAR(60)) AS anon_1\n",
      "2020-08-15 11:02:20,065 INFO sqlalchemy.engine.base.Engine {}\n",
      "2020-08-15 11:02:20,088 INFO sqlalchemy.engine.base.Engine SELECT CAST('test unicode returns' AS VARCHAR(60)) AS anon_1\n",
      "2020-08-15 11:02:20,096 INFO sqlalchemy.engine.base.Engine {}\n",
      "2020-08-15 11:02:20,107 INFO sqlalchemy.engine.base.Engine show standard_conforming_strings\n",
      "2020-08-15 11:02:20,111 INFO sqlalchemy.engine.base.Engine {}\n",
      "2020-08-15 11:02:20,141 INFO sqlalchemy.engine.base.Engine SELECT c.relname FROM pg_class c JOIN pg_namespace n ON n.oid = c.relnamespace WHERE n.nspname = %(schema)s AND c.relkind in ('r', 'p')\n",
      "2020-08-15 11:02:20,145 INFO sqlalchemy.engine.base.Engine {'schema': 'public'}\n"
     ]
    },
    {
     "data": {
      "text/plain": [
       "['Rental', 'Crime', 'Bridge_Rental_Crime']"
      ]
     },
     "execution_count": 14,
     "metadata": {},
     "output_type": "execute_result"
    }
   ],
   "source": [
    "engine.table_names()"
   ]
  },
  {
   "cell_type": "markdown",
   "metadata": {},
   "source": [
    "### Load the tables based on foreign key relationship"
   ]
  },
  {
   "cell_type": "code",
   "execution_count": null,
   "metadata": {},
   "outputs": [],
   "source": [
    "#Rental_craigslist.to_sql(name=\"Rental\", con=engine, if_exists='append', index=False)"
   ]
  },
  {
   "cell_type": "code",
   "execution_count": null,
   "metadata": {},
   "outputs": [],
   "source": [
    "#crime_data.to_sql(name=\"Crime\", con=engine, if_exists='append', index=False)"
   ]
  },
  {
   "cell_type": "code",
   "execution_count": null,
   "metadata": {},
   "outputs": [],
   "source": [
    "#bridge_table.to_sql(name=\"Bridge_Rental_Crime\", con=engine, if_exists='append', index=False)"
   ]
  },
  {
   "cell_type": "code",
   "execution_count": 22,
   "metadata": {},
   "outputs": [],
   "source": [
    "#bridge_table_kijiji.to_sql(name=\"Bridge_Rental_Crime\", con=engine, if_exists='append', index=False)"
   ]
  },
  {
   "cell_type": "code",
   "execution_count": 25,
   "metadata": {},
   "outputs": [
    {
     "name": "stdout",
     "output_type": "stream",
     "text": [
      "2020-08-15 12:08:56,860 INFO sqlalchemy.engine.base.Engine select relname from pg_class c join pg_namespace n on n.oid=c.relnamespace where pg_catalog.pg_table_is_visible(c.oid) and relname=%(name)s\n",
      "2020-08-15 12:08:56,863 INFO sqlalchemy.engine.base.Engine {'name': 'Rental'}\n",
      "2020-08-15 12:08:56,916 INFO sqlalchemy.engine.base.Engine BEGIN (implicit)\n",
      "2020-08-15 12:08:56,956 INFO sqlalchemy.engine.base.Engine INSERT INTO \"Rental\" (id, title, price, sqft, image, url, post_published_date, lat, long, postal_code, \"FSA\", rental_type, bedrooms, bathrooms, furnished, pet_friendly, description, source) VALUES (%(id)s, %(title)s, %(price)s, %(sqft)s, %(image)s, %(url)s, %(post_published_date)s, %(lat)s, %(long)s, %(postal_code)s, %(FSA)s, %(rental_type)s, %(bedrooms)s, %(bathrooms)s, %(furnished)s, %(pet_friendly)s, %(description)s, %(source)s)\n",
      "2020-08-15 12:08:56,958 INFO sqlalchemy.engine.base.Engine ({'id': 'k_1515948914', 'title': 'Parkway Forest Towers - 2 Bedroom, 1 Bathroom for Rent', 'price': 2209, 'sqft': 940, 'image': 'https://i.ebayimg.com/00/s/NzY4WDEzNjU=/z/K40AAOSw6NdfKHbo/$_27.JPG', 'url': 'https://www.kijiji.ca/v-apartments-condos/city-of-toronto/parkway-forest-towers-2-bedroom-1-bathroom-for-rent/1515948914', 'post_published_date': '2020-08-13', 'lat': 43.7733049, 'long': 43.7733049, 'postal_code': 'M2J 1L6', 'FSA': 'M2J', 'rental_type': 'apartment', 'bedrooms': 2, 'bathrooms': 1, 'furnished': False, 'pet_friendly': True, 'description': \"Contact Timbercreek Communities today!\\xa0Parkway Forest Towers is located in the revitalized Don Mills and Sheppard neighbourhood. This location can ... (39 characters truncated) ... a brand new community centre surrounded by bright landscape, public transit, easy access to major highways, and modern conveniences at your doorstep.\", 'source': 'Kijiji'}, {'id': 'k_1502301137', 'title': 'One, two bedroom large unit from $1650 , Hydro extra fully reno', 'price': 1650, 'sqft': 750, 'image': 'https://i.ebayimg.com/00/s/NjAwWDgwMA==/z/cIkAAOSw~HheyA5k/$_27.JPG', 'url': 'https://www.kijiji.ca/v-apartments-condos/city-of-toronto/one-two-bedroom-large-unit-from-1650-hydro-extra-fully-reno/1502301137', 'post_published_date': '2020-07-17', 'lat': 43.78136869999999, 'long': 43.78136869999999, 'postal_code': 'M1G 3S7', 'FSA': 'M1G', 'rental_type': 'apartment', 'bedrooms': 1, 'bathrooms': 1, 'furnished': False, 'pet_friendly': False, 'description': 'Fully renovated high rise building with one and two bedroom unit available immediately. The units are fully renovated with new appliances. Onsite bui ... (6 characters truncated) ... staff, video surveillance system, The building is located minutes of HWY 401, close to Centennial College in Scarborough, and Scarborough Town Centre', 'source': 'Kijiji'}, {'id': 'k_1505788420', 'title': '1 Bedroom Renovated Apartment for Rent - 135 Tyndall Avenue', 'price': 1949, 'sqft': 626, 'image': 'https://i.ebayimg.com/00/s/NzY4WDExNTI=/z/NmUAAOSw2sBfKxJs/$_27.JPG', 'url': 'https://www.kijiji.ca/v-apartments-condos/city-of-toronto/1-bedroom-renovated-apartment-for-rent-135-tyndall-avenue/1505788420', 'post_published_date': '2020-08-13', 'lat': 43.6377125, 'long': 43.6377125, 'postal_code': 'M6K 2G4', 'FSA': 'M6K', 'rental_type': 'apartment', 'bedrooms': 1, 'bathrooms': 1, 'furnished': False, 'pet_friendly': True, 'description': 'Please view our available units by clicking on the virtual tour below.', 'source': 'Kijiji'}, {'id': 'k_1516085720', 'title': 'Yonge and Finch, 1+1 unit , spacious and bright with west view', 'price': 2100, 'sqft': 675, 'image': 'https://i.ebayimg.com/00/s/MTIwMFgxNjAw/z/fcYAAOSw8WZfKYlP/$_27.JPG', 'url': 'https://www.kijiji.ca/v-apartments-condos/city-of-toronto/yonge-and-finch-1-1-unit-spacious-and-bright-with-west-view/1516085720', 'post_published_date': '2020-08-06', 'lat': 43.77583970000001, 'long': 43.77583970000001, 'postal_code': 'M2N 5R6', 'FSA': 'M2N', 'rental_type': 'condo', 'bedrooms': 1, 'bathrooms': 1, 'furnished': False, 'pet_friendly': False, 'description': 'Amazing Tridel building. Yonge and Finch. About 6 minutes walk to Finch subway station.\\nSpacious 1+1 condo unit with unobstructed west view. Also ha ... (232 characters truncated) ... parking.\\nSauna, indoor pool, gym, virtual golf. Party room, guest suite, barbecue facilities, and 24 hour Conciege.\\nClose to Metro and restaurants.', 'source': 'Kijiji'}, {'id': 'k_1517893288', 'title': 'Dwtn Toronto King W/John St Lux 788SF 1B/R+Den+Park+2WR+locker', 'price': 2550, 'sqft': 788, 'image': None, 'url': 'https://www.kijiji.ca/v-apartments-condos/city-of-toronto/dwtn-toronto-king-w-john-st-lux-788sf-1b-r-den-park-2wr-locker/1517893288', 'post_published_date': '2020-08-14', 'lat': 43.6460058, 'long': 43.6460058, 'postal_code': 'M5V 0C4', 'FSA': 'M5V', 'rental_type': 'condo', 'bedrooms': 1, 'bathrooms': 2, 'furnished': False, 'pet_friendly': False, 'description': 'Excellent downtown location King St West/John St a spacious 788 Sq Ft luxury condo unit 1B/R+large Den+1Parking+2 full bathrooms available for rent.  ... (510 characters truncated) ... per value of about $300 pm)included in the low rent of $2550 pm. Verifiable references and documents needed. Call 416 566 4033 for further inquiries.', 'source': 'Kijiji'}, {'id': 'k_1517891869', 'title': 'Toronto Condo for Rent- 35 Mariner Terrace- 1+Den', 'price': 2400, 'sqft': 670, 'image': 'https://i.ebayimg.com/00/s/MzIwWDI0MA==/z/y1QAAOSwbp9fNd6m/$_27.PNG', 'url': 'https://www.kijiji.ca/v-apartments-condos/city-of-toronto/toronto-condo-for-rent-35-mariner-terrace-1-den/1517891869', 'post_published_date': '2020-08-14', 'lat': 43.6396694, 'long': 43.6396694, 'postal_code': 'M5V 3V9', 'FSA': 'M5V', 'rental_type': 'condo', 'bedrooms': 1, 'bathrooms': 1, 'furnished': False, 'pet_friendly': True, 'description': 'Condo for rent starting October 1st.\\n35 Mariner Terrace, located in the entertainment district.\\nWalking distance from Rogers Centre, Sobeys, Starbu ... (88 characters truncated) ...  stove, new dishwasher, microwave, and fridge.\\n1 underground parking space, and locker included in lease.\\nPlease contact for additional information', 'source': 'Kijiji'}, {'id': 'k_1517891500', 'title': '1+1 Corner Unit with Unobstructed view - with parking', 'price': 2100, 'sqft': 700, 'image': 'https://i.ebayimg.com/00/s/NjAwWDgwMA==/z/AkgAAOSweupfNd38/$_27.PNG', 'url': 'https://www.kijiji.ca/v-apartments-condos/city-of-toronto/1-1-corner-unit-with-unobstructed-view-with-parking/1517891500', 'post_published_date': '2020-08-14', 'lat': 43.76798970000001, 'long': 43.76798970000001, 'postal_code': 'M2K 1C2', 'FSA': 'M2K', 'rental_type': 'condo', 'bedrooms': 1, 'bathrooms': 1, 'furnished': False, 'pet_friendly': False, 'description': '**Unit** : 1+1 Corner Unit with parking available September 1\\n**Price**: $2100/month + hydro + tenant insurance\\n**Rent Control **: Unit was used fo ... (625 characters truncated) ... Train, Ikea, Hospital, Trails, Parks And Malls.\\nFridge, Stove, Range Hood, Dishwasher. Microwave, Stacked Washer/Dryer. All Windows Covering & Elfs.', 'source': 'Kijiji'}, {'id': 'k_1517891317', 'title': 'Apartment in Downtown Toronto', 'price': 1650, 'sqft': 350, 'image': 'https://i.ebayimg.com/00/s/NDU2WDgwMA==/z/qwoAAOSwyL9fNdxd/$_27.JPG', 'url': 'https://www.kijiji.ca/v-apartments-condos/city-of-toronto/apartment-in-downtown-toronto/1517891317', 'post_published_date': '2020-08-14', 'lat': 43.672896, 'long': 43.672896, 'postal_code': 'M5R 2M2', 'FSA': 'M5R', 'rental_type': 'apartment', 'bedrooms': 0, 'bathrooms': 1, 'furnished': True, 'pet_friendly': False, 'description': 'Cozy apartment in DT Toronto, Annex, Toronto University aria, 5 min walk from subway. In apartment one bathroom, small kitchenette included fridge with freezer, kettle, coffee machine, MW, and toaster. No oven or stove. For more details please contact me 519-222-1007', 'source': 'Kijiji'}  ... displaying 10 of 506 total bound parameter sets ...  {'id': 'k_1517725409', 'title': 'Brand New Studio in  Down Town next to Eaton Center', 'price': 1600, 'sqft': 350, 'image': 'https://i.ebayimg.com/00/s/MTYwMFgxMjAw/z/fSoAAOSwXydfNKS8/$_27.JPG', 'url': 'https://www.kijiji.ca/v-apartments-condos/city-of-toronto/brand-new-studio-in-down-town-next-to-eaton-center/1517725409', 'post_published_date': '2020-08-13', 'lat': 43.6574924, 'long': 43.6574924, 'postal_code': 'M5B 2C2', 'FSA': 'M5B', 'rental_type': 'condo', 'bedrooms': 0, 'bathrooms': 1, 'furnished': False, 'pet_friendly': False, 'description': 'Brand new down town Dundas Square Gardens building. Heart of the city. Next to Young and Dundas, Eaton Center. World class amenities, Outdoor swimmin ... (228 characters truncated) ...  500 security deposit is required. Available Sept 1, 2020 or October 1, 2020 move date. Please call at 647-998-9849 or email to vbabiy04@hotmail.com.', 'source': 'Kijiji'}, {'id': 'k_1517756178', 'title': 'For rent one bedroom condo  bay / college in downtown Sep 1', 'price': 1950, 'sqft': 600, 'image': 'https://i.ebayimg.com/00/s/ODAwWDYwMA==/z/tUkAAOSwq4BfNSoJ/$_27.JPG', 'url': 'https://www.kijiji.ca/v-apartments-condos/city-of-toronto/for-rent-one-bedroom-condo-bay-college-in-downtown-sep-1/1517756178', 'post_published_date': '2020-08-13', 'lat': 43.6601107, 'long': 43.6601107, 'postal_code': 'M5G0A6', 'FSA': 'M5G', 'rental_type': 'condo', 'bedrooms': 1, 'bathrooms': 1, 'furnished': False, 'pet_friendly': False, 'description': 'Live In Luxury Comfort - At Bay And College, 9 Foot Ceiling! , Hardwood Floors, Built In Appliances,Granite Countertop In Kitchen, Floor To Ceiling W ... (91 characters truncated) ... l Major Hospitals. swimming pool, roof garden.\\n$1950 per month water included, lease starting September first, at least 1 year, no pet no smoke pls.', 'source': 'Kijiji'})\n"
     ]
    },
    {
     "name": "stdout",
     "output_type": "stream",
     "text": [
      "2020-08-15 12:08:57,403 INFO sqlalchemy.engine.base.Engine COMMIT\n",
      "2020-08-15 12:08:57,422 INFO sqlalchemy.engine.base.Engine SELECT c.relname FROM pg_class c JOIN pg_namespace n ON n.oid = c.relnamespace WHERE n.nspname = %(schema)s AND c.relkind in ('r', 'p')\n",
      "2020-08-15 12:08:57,423 INFO sqlalchemy.engine.base.Engine {'schema': 'public'}\n"
     ]
    }
   ],
   "source": [
    "Rental_kijiji.to_sql(name=\"Rental\", con=engine, if_exists='append', index=False)"
   ]
  },
  {
   "cell_type": "code",
   "execution_count": null,
   "metadata": {},
   "outputs": [],
   "source": []
  },
  {
   "cell_type": "code",
   "execution_count": null,
   "metadata": {},
   "outputs": [],
   "source": []
  },
  {
   "cell_type": "code",
   "execution_count": 15,
   "metadata": {},
   "outputs": [
    {
     "name": "stdout",
     "output_type": "stream",
     "text": [
      "total 1294176\r\n",
      "-rw-r--r--@ 1 bincynarath  staff    3669431 Aug 15 00:37 Rental_Craigslist.csv\r\n",
      "-rw-r--r--@ 1 bincynarath  staff    4156709 Aug 15 00:37 Crime.csv\r\n",
      "-rw-r--r--@ 1 bincynarath  staff  507422162 Aug 15 00:51 Bridge_Rental_Crime_Craigslist.csv\r\n",
      "-rw-r--r--@ 1 bincynarath  staff  134119149 Aug 15 10:43 bridge_table_kijiji_final.csv\r\n"
     ]
    }
   ],
   "source": [
    "!ls -lrt ../Output"
   ]
  },
  {
   "cell_type": "code",
   "execution_count": null,
   "metadata": {},
   "outputs": [],
   "source": []
  }
 ],
 "metadata": {
  "kernelspec": {
   "display_name": "Python 3",
   "language": "python",
   "name": "python3"
  },
  "language_info": {
   "codemirror_mode": {
    "name": "ipython",
    "version": 3
   },
   "file_extension": ".py",
   "mimetype": "text/x-python",
   "name": "python",
   "nbconvert_exporter": "python",
   "pygments_lexer": "ipython3",
   "version": "3.8.1"
  }
 },
 "nbformat": 4,
 "nbformat_minor": 4
}
